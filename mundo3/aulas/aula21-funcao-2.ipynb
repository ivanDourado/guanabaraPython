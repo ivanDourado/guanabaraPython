{
 "cells": [
  {
   "attachments": {},
   "cell_type": "markdown",
   "metadata": {},
   "source": [
    "# Aula 21 - Funções parte 2\n",
    "abordaremos:\n",
    "* interactive Help \n",
    "* Docstrings\n",
    "* Argumentos opcionais\n",
    "* Escopo de variáveis\n",
    "* retorno de resultados\n"
   ]
  },
  {
   "attachments": {},
   "cell_type": "markdown",
   "metadata": {},
   "source": [
    "---------------------------------\n",
    "ajuda interativa, usa-se uma função interna/método  help()"
   ]
  },
  {
   "cell_type": "code",
   "execution_count": 1,
   "metadata": {},
   "outputs": [
    {
     "name": "stdout",
     "output_type": "stream",
     "text": [
      "Help on built-in function print in module builtins:\n",
      "\n",
      "print(...)\n",
      "    print(value, ..., sep=' ', end='\\n', file=sys.stdout, flush=False)\n",
      "    \n",
      "    Prints the values to a stream, or to sys.stdout by default.\n",
      "    Optional keyword arguments:\n",
      "    file:  a file-like object (stream); defaults to the current sys.stdout.\n",
      "    sep:   string inserted between values, default a space.\n",
      "    end:   string appended after the last value, default a newline.\n",
      "    flush: whether to forcibly flush the stream.\n",
      "\n"
     ]
    }
   ],
   "source": [
    "help(print)"
   ]
  },
  {
   "cell_type": "code",
   "execution_count": 3,
   "metadata": {},
   "outputs": [
    {
     "name": "stdout",
     "output_type": "stream",
     "text": [
      "Forward raw_input to frontends\n",
      "\n",
      "        Raises\n",
      "        ------\n",
      "        StdinNotImplementedError if active frontend doesn't support stdin.\n",
      "        \n"
     ]
    }
   ],
   "source": [
    "# outra maneira além do  Help()\n",
    "print(input.__doc__)"
   ]
  },
  {
   "attachments": {},
   "cell_type": "markdown",
   "metadata": {},
   "source": [
    "---------------------------\n",
    "# Docstrings\n"
   ]
  },
  {
   "cell_type": "code",
   "execution_count": 6,
   "metadata": {},
   "outputs": [
    {
     "name": "stdout",
     "output_type": "stream",
     "text": [
      "2 4 6 8 10 \n",
      "FIM!\n",
      "Help on function contador in module __main__:\n",
      "\n",
      "contador(i, f, p)\n",
      "    -> faz uma contagem e mostra na tela. \n",
      "    :param i: início da contagem\n",
      "    :param f: fim da contagem\n",
      "    :param p: passo da contagem\n",
      "    :return: sem retorno\n",
      "\n"
     ]
    }
   ],
   "source": [
    "from time import sleep\n",
    "\n",
    "def contador (i,f,p):\n",
    "    \"\"\" \n",
    "    -> faz uma contagem e mostra na tela. \n",
    "    :param i: início da contagem\n",
    "    :param f: fim da contagem\n",
    "    :param p: passo da contagem\n",
    "    :return: sem retorno\n",
    "    \"\"\"\n",
    "    c = i\n",
    "    while c <= f:\n",
    "        print(f'{c} ', end='', flush=True)\n",
    "        sleep(.3)\n",
    "        c +=p\n",
    "    print('\\nFIM!')\n",
    "\n",
    "contador(2,10,2)\n",
    "help(contador)"
   ]
  },
  {
   "attachments": {},
   "cell_type": "markdown",
   "metadata": {},
   "source": [
    "------------------------------------\n",
    "# parâmetros opcionais\n",
    "atribui-se a zero os parametros na hipotese de não têlo na função, ele terá por padrao o valor 0"
   ]
  },
  {
   "cell_type": "code",
   "execution_count": 15,
   "metadata": {},
   "outputs": [
    {
     "name": "stdout",
     "output_type": "stream",
     "text": [
      "5 6 4 8 2 \n",
      "A soma dos valores (5, 6, 4, 8, 2) é 25 \n"
     ]
    }
   ],
   "source": [
    "#parametros definidos opcionais\n",
    "def somar(a=0,b=0,c=0):\n",
    "    \"\"\" \n",
    "    faz a soma de 3 valores e mostra o resultado na tela:\n",
    "    :param a : o 1º valor\n",
    "    :param b: o 2º valor\n",
    "    :param c: o 3º valor\n",
    "    Função copiada por Ivan\n",
    "    \"\"\"\n",
    "    s = a + b + c\n",
    "    print(f'A soma vale {s}')\n",
    "\n",
    "#múltiplos parametros\n",
    "def somar_multi(*itens):\n",
    "    for item in itens:\n",
    "        print(f'{item} ',end='', flush=True)\n",
    "        sleep(.2)\n",
    "    print(f'\\nA soma dos valores {itens} é {sum(itens)} ')\n",
    "\n",
    "\"\"\" somar(3,5,8)\n",
    "somar(3,5)\n",
    "somar(3)\n",
    "somar() \"\"\"\n",
    "\n",
    "\"\"\" somar_multi(5,6,4,8,2) \"\"\""
   ]
  },
  {
   "attachments": {},
   "cell_type": "markdown",
   "metadata": {},
   "source": [
    "------------------------------------\n",
    "# Escopo de variáveis\n",
    "* locais (válido somente dentro do escopo de uma função)\n",
    "* globais (válidas em todo o código)"
   ]
  },
  {
   "cell_type": "code",
   "execution_count": 20,
   "metadata": {},
   "outputs": [
    {
     "name": "stdout",
     "output_type": "stream",
     "text": [
      "A dentro vale 8\n",
      "B dentro vale 9\n",
      "C dentro vale 2\n",
      "\n",
      "A fora vale 8\n"
     ]
    }
   ],
   "source": [
    "def teste(b):\n",
    "    global a # o valor avaixo passa a ser o valor da var global\n",
    "    a=8\n",
    "    b += 4\n",
    "    c = 2\n",
    "    print(f'A dentro vale {a}')\n",
    "    print(f'B dentro vale {b}')\n",
    "    print(f'C dentro vale {c}')\n",
    "\n",
    "a = 5 # esse valor será substituido pelo valor declarado como global no escopo da função\n",
    "teste(a)\n",
    "print(f'\\nA fora vale {a}')"
   ]
  },
  {
   "attachments": {},
   "cell_type": "markdown",
   "metadata": {},
   "source": [
    "----------------------------------\n",
    "# Retorno de valores"
   ]
  },
  {
   "cell_type": "code",
   "execution_count": 23,
   "metadata": {},
   "outputs": [
    {
     "name": "stdout",
     "output_type": "stream",
     "text": [
      "Os resultados das somas deram 10, 4 e 6 !\n"
     ]
    }
   ],
   "source": [
    "def somar(a=0,b=0,c=0):\n",
    "    s = a + b + c\n",
    "    return s\n",
    "\n",
    "r1 = somar(3,2,5)\n",
    "r2 = somar(2,2)\n",
    "r3 = somar(6)\n",
    "\n",
    "print(f'Os resultados das somas deram {r1}, {r2} e {r3} !')"
   ]
  },
  {
   "cell_type": "code",
   "execution_count": 5,
   "metadata": {},
   "outputs": [
    {
     "name": "stdout",
     "output_type": "stream",
     "text": [
      "Os resultados são 120, 24 e 1 !\n"
     ]
    }
   ],
   "source": [
    "\n",
    "\"\"\" num = int(input('Digite um numero para \\ncalcular o seu fatorial: '))\n",
    "c = num \n",
    "f = 1\n",
    "print(f'{num}! =', end=' ')\n",
    "while c > 0:\n",
    "    print(f' {c} ', end='')\n",
    "    print(f'x' if c > 1 else ' = ', end='')\n",
    "    f *= c\n",
    "    c -= 1\n",
    "print(f'{f}')\n",
    "print('\\nFIM!') \"\"\"\n",
    "\n",
    "'''from math import factorial\n",
    "num = int(input('Digite um numero para \\ncalcular o seu fatorial: '))\n",
    "f = factorial(num)\n",
    "print(f'O fatorial de {num} é {f}')'''\n",
    "\n",
    "def fatorial(num=1):  \n",
    "    f = 1\n",
    "    for c in range(num, 0, -1):\n",
    "        f *= c\n",
    "    return f\n",
    "\n",
    "f1 = fatorial(5)\n",
    "f2 = fatorial(4)\n",
    "f3 = fatorial()\n",
    "print(f'Os resultados são {f1}, {f2} e {f3} !')"
   ]
  },
  {
   "cell_type": "code",
   "execution_count": null,
   "metadata": {},
   "outputs": [],
   "source": []
  }
 ],
 "metadata": {
  "kernelspec": {
   "display_name": "Python 3",
   "language": "python",
   "name": "python3"
  },
  "language_info": {
   "codemirror_mode": {
    "name": "ipython",
    "version": 3
   },
   "file_extension": ".py",
   "mimetype": "text/x-python",
   "name": "python",
   "nbconvert_exporter": "python",
   "pygments_lexer": "ipython3",
   "version": "3.10.6 (main, Nov 14 2022, 16:10:14) [GCC 11.3.0]"
  },
  "orig_nbformat": 4,
  "vscode": {
   "interpreter": {
    "hash": "916dbcbb3f70747c44a77c7bcd40155683ae19c65e1c03b4aa3499c5328201f1"
   }
  }
 },
 "nbformat": 4,
 "nbformat_minor": 2
}
